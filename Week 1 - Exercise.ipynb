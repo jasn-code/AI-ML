{
 "cells": [
  {
   "cell_type": "markdown",
   "metadata": {},
   "source": [
    "For this exercise you are going to write a function that makes change for amounts less than one dollar. Input must be a positive integer up to 100, representing an amount of money, in cents. Output must be the original amount of money together with a set of coins (quarters, dimes, nickels) that could make up the amount. The function must produce change containing the minimum number of coins required to produce the given amount. Remember that the penny is no longer in production, so you must round the value up or down accordingly.  The output must be reasonable and non-stilted. For example, the input of 54 should produce results such as: \n",
    "        54 cents requires 2 quarters, 1 nickel\n",
    "rather than\n",
    "        54 cents requires 2 quarters, 0 dimes, 1 nickels\n",
    "\n",
    "Provide some message if values do not produce output.\n"
   ]
  },
  {
   "cell_type": "markdown",
   "metadata": {},
   "source": [
    "# Week 1 - Exercise\n",
    "### Notebook created by Jonathan Penava"
   ]
  },
  {
   "cell_type": "code",
   "execution_count": 1,
   "metadata": {},
   "outputs": [],
   "source": [
    "def makeChange(change):\n",
    "   \n",
    "    quarters = 25\n",
    "    dimes = 10\n",
    "    nickels = 5\n",
    "    if change < 0:\n",
    "        return \"Invalid! cannot make change for negative values.\"\n",
    "    round_change = round(change / 5) * 5\n",
    "    no_of_quarters = round_change // quarters\n",
    "    amount_left = round_change % quarters\n",
    "\n",
    "    no_of_dimes = amount_left // dimes\n",
    "    amount_left = amount_left % dimes\n",
    "\n",
    "    no_of_nickels = amount_left // nickels\n",
    "\n",
    "    answer = \"{} cents requires\".format(round_change)\n",
    "\n",
    "    if no_of_quarters > 0:\n",
    "        if no_of_quarters == 1:\n",
    "            answer += \" 1 quarter\"\n",
    "        else:\n",
    "            answer += \" {} quarters\".format(no_of_quarters)\n",
    "    if no_of_dimes > 0:\n",
    "        if no_of_quarters > 0:\n",
    "            answer += \",\"\n",
    "        if no_of_dimes == 1:\n",
    "            answer += \" 1 dime\"\n",
    "        else:\n",
    "            answer += \" {} dimes\".format(no_of_dimes)\n",
    "    if no_of_nickels > 0:\n",
    "        if no_of_quarters > 0 or no_of_dimes > 0:\n",
    "            answer += \",\"\n",
    "        if no_of_nickels == 1:\n",
    "            answer += \" 1 nickel\"\n",
    "        else:\n",
    "            answer += \" {} nickels\".format(no_of_nickels)\n",
    "\n",
    "    return answer"
   ]
  },
  {
   "cell_type": "code",
   "execution_count": null,
   "metadata": {},
   "outputs": [],
   "source": [
    "print(makeChange(18))"
   ]
  },
  {
   "cell_type": "code",
   "execution_count": null,
   "metadata": {},
   "outputs": [],
   "source": [
    "\n",
    "makeChange(68)"
   ]
  },
  {
   "cell_type": "code",
   "execution_count": 2,
   "metadata": {},
   "outputs": [
    {
     "data": {
      "text/plain": [
       "'55 cents requires 2 quarters, 1 nickel'"
      ]
     },
     "execution_count": 2,
     "metadata": {},
     "output_type": "execute_result"
    }
   ],
   "source": [
    "makeChange(54)"
   ]
  },
  {
   "cell_type": "code",
   "execution_count": 63,
   "metadata": {},
   "outputs": [
    {
     "data": {
      "text/plain": [
       "'31 cents requires 1 quarter, 1 nickel'"
      ]
     },
     "execution_count": 63,
     "metadata": {},
     "output_type": "execute_result"
    }
   ],
   "source": [
    "makeChange(31)"
   ]
  },
  {
   "cell_type": "code",
   "execution_count": 64,
   "metadata": {},
   "outputs": [
    {
     "data": {
      "text/plain": [
       "'18 cents requires 1 dime, 1 nickel'"
      ]
     },
     "execution_count": 64,
     "metadata": {},
     "output_type": "execute_result"
    }
   ],
   "source": [
    "makeChange(18)"
   ]
  },
  {
   "cell_type": "code",
   "execution_count": 66,
   "metadata": {},
   "outputs": [
    {
     "data": {
      "text/plain": [
       "'82 cents requires 3 quarters, 1 nickel'"
      ]
     },
     "execution_count": 66,
     "metadata": {},
     "output_type": "execute_result"
    }
   ],
   "source": [
    "makeChange(82)"
   ]
  },
  {
   "cell_type": "code",
   "execution_count": 67,
   "metadata": {},
   "outputs": [
    {
     "data": {
      "text/plain": [
       "'40 cents requires 1 quarter, 1 dime, 1 nickel'"
      ]
     },
     "execution_count": 67,
     "metadata": {},
     "output_type": "execute_result"
    }
   ],
   "source": [
    "makeChange(40)"
   ]
  },
  {
   "cell_type": "code",
   "execution_count": 68,
   "metadata": {},
   "outputs": [
    {
     "data": {
      "text/plain": [
       "'99 cents requires 3 quarters, 2 dimes'"
      ]
     },
     "execution_count": 68,
     "metadata": {},
     "output_type": "execute_result"
    }
   ],
   "source": [
    "makeChange(99)"
   ]
  },
  {
   "cell_type": "code",
   "execution_count": 71,
   "metadata": {},
   "outputs": [
    {
     "data": {
      "text/plain": [
       "'Invalid amount: cannot make change for negative values.'"
      ]
     },
     "execution_count": 71,
     "metadata": {},
     "output_type": "execute_result"
    }
   ],
   "source": [
    "makeChange(-2)"
   ]
  }
 ],
 "metadata": {
  "kernelspec": {
   "display_name": "Python 3",
   "language": "python",
   "name": "python3"
  },
  "language_info": {
   "codemirror_mode": {
    "name": "ipython",
    "version": 3
   },
   "file_extension": ".py",
   "mimetype": "text/x-python",
   "name": "python",
   "nbconvert_exporter": "python",
   "pygments_lexer": "ipython3",
   "version": "3.12.4"
  },
  "orig_nbformat": 4
 },
 "nbformat": 4,
 "nbformat_minor": 2
}
